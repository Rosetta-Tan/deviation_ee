{
 "cells": [
  {
   "cell_type": "code",
   "execution_count": 13,
   "id": "3c856f04-9beb-400a-ac19-eaf131cad494",
   "metadata": {
    "tags": []
   },
   "outputs": [
    {
     "name": "stdout",
     "output_type": "stream",
     "text": [
      "[0.  +0.j 0.25+0.j 0.  +0.j 0.  +0.j]\n"
     ]
    }
   ],
   "source": [
    "from dynamite.states import State\n",
    "from dynamite.operators import sigmax, identity, op_product, op_sum\n",
    "from dynamite import config\n",
    "import numpy as np\n",
    "import json\n",
    "\n",
    "config.L = 2\n",
    "\n",
    "alpha = np.cos(np.pi/6)\n",
    "beta = np.sin(np.pi/6)\n",
    "\n",
    "dim = 2**config.L\n",
    "\n",
    "def compute_vec_element(state):\n",
    "    # return np.exp(2*np.pi*1j*(state/dim))\n",
    "    if state == 1:\n",
    "        return beta**2\n",
    "    else:\n",
    "        return 0\n",
    "                  \n",
    "s = State()\n",
    "s.set_all_by_function(compute_vec_element)\n",
    "# s.normalize()\n",
    "s_np = s.to_numpy()\n",
    "print(s_np)"
   ]
  },
  {
   "cell_type": "code",
   "execution_count": 20,
   "id": "a0de5690-2a97-41b4-aa3e-a1abc9eb7175",
   "metadata": {
    "tags": []
   },
   "outputs": [
    {
     "data": {
      "text/plain": [
       "matrix([[0.+0.j, 0.+0.j, 1.+0.j, 0.+0.j],\n",
       "        [0.+0.j, 0.+0.j, 0.+0.j, 1.+0.j],\n",
       "        [1.+0.j, 0.+0.j, 0.+0.j, 0.+0.j],\n",
       "        [0.+0.j, 1.+0.j, 0.+0.j, 0.+0.j]])"
      ]
     },
     "execution_count": 20,
     "metadata": {},
     "output_type": "execute_result"
    }
   ],
   "source": [
    "test_op = sigmax(1)\n",
    "test_op_np = test_op.to_numpy().todense()\n",
    "test_op_np"
   ]
  },
  {
   "cell_type": "code",
   "execution_count": null,
   "id": "c1c4212a-02e0-4f0a-a338-f4721800bcf0",
   "metadata": {},
   "outputs": [],
   "source": []
  }
 ],
 "metadata": {
  "kernelspec": {
   "display_name": "Python 3 (ipykernel)",
   "language": "python",
   "name": "python3"
  },
  "language_info": {
   "codemirror_mode": {
    "name": "ipython",
    "version": 3
   },
   "file_extension": ".py",
   "mimetype": "text/x-python",
   "name": "python",
   "nbconvert_exporter": "python",
   "pygments_lexer": "ipython3",
   "version": "3.11.2"
  }
 },
 "nbformat": 4,
 "nbformat_minor": 5
}
